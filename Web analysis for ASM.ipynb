{
 "cells": [
  {
   "cell_type": "markdown",
   "metadata": {},
   "source": [
    "# Scrapy spider code for web crawling"
   ]
  },
  {
   "cell_type": "code",
   "execution_count": null,
   "metadata": {
    "collapsed": true
   },
   "outputs": [],
   "source": [
    "##init.py\n",
    "import scrapy\n",
    "from scrapy.contrib.spiders import CrawlSpider, Rule\n",
    "from scrapy.contrib.linkextractors.sgml import SgmlLinkExtractor\n",
    "from scrapy.selector import HtmlXPathSelector\n",
    "from scrapy.item import Item\n",
    "from scrapy.spider import BaseSpider\n",
    "from scrapy import log\n",
    "from mySpidy.items import MyspidyItem\n",
    "from scrapy.utils.response import get_base_url\n",
    "from urlparse import urljoin\n",
    "import re\n",
    "\n",
    "##retrieve title and link from xpath scrapy obj and print them at csv file \n",
    "class MyMuseumSpider(scrapy.Spider):\n",
    "\tname = \"tate\"\n",
    "\tallowed_domains = [\"tate.org.uk\"]\n",
    "\tstart_urls = [\"http://www.tate.org.uk/\"]\n",
    "    #call the tate museum top page\n",
    "\n",
    "\n",
    "\tdef parse(self, response):\n",
    "\t\tbase_url = get_base_url(response)\n",
    "\t\thxs = HtmlXPathSelector(response) ##bringing xpath on spider \n",
    "\t\ta = re.compile(r\"^https?://\") ##remove https:// \n",
    "\t\ttitles = hxs.select(\"//p\") ## select words between <p></p> in html\n",
    "\t\titems = []\n",
    "\t\tfor titles in titles:\n",
    "\t\t\titem = MyspidyItem()\n",
    "\t\t\titem [\"title\"] = titles.select(\"a/text()\").extract()\n",
    "\t\t\titem [\"link\"] = titles.select(\"a/@href\").extract()\n",
    "\t\t\tstr = ''.join(item [\"link\"])\n",
    "\t\t\tprint str ##print the result \n",
    "\t\t\tif ( a.match(str) ):\n",
    "\t\t\t\titem [\"total\"] = item[\"link\"] \n",
    "\t\t\telse :\n",
    "\t\t\t\titem [\"total\"] = urljoin(base_url, str)\n",
    "\t\t\titems.append(item)\n",
    "\t\treturn(items)\n",
    "\t\t\n"
   ]
  },
  {
   "cell_type": "code",
   "execution_count": null,
   "metadata": {
    "collapsed": true
   },
   "outputs": [],
   "source": [
    "#code in item.py in MyspidyItem package\n",
    "import scrapy\n",
    "from scrapy.item import Item, Field\n",
    "\n",
    "#initializing name of link(=title) and linked address as scrapy field obj\n",
    "class MyspidyItem(Item):\n",
    "\ttitle = scrapy.Field()\n",
    "\tlink = scrapy.Field()"
   ]
  },
  {
   "cell_type": "markdown",
   "metadata": {},
   "source": [
    "##### Data Crawling done \n",
    "##### *same process was executed to the top page of Asia Society museum, Gugenheim museum, Smith Sonion museum : Freer and Sackler Galleries"
   ]
  },
  {
   "cell_type": "markdown",
   "metadata": {},
   "source": [
    "# Data Preparation process "
   ]
  },
  {
   "cell_type": "markdown",
   "metadata": {},
   "source": [
    "## Asia Society"
   ]
  },
  {
   "cell_type": "code",
   "execution_count": 2,
   "metadata": {
    "collapsed": false
   },
   "outputs": [],
   "source": [
    "import pandas as pd\n",
    "from pandas import DataFrame\n",
    "import numpy as np\n"
   ]
  },
  {
   "cell_type": "code",
   "execution_count": 3,
   "metadata": {
    "collapsed": false
   },
   "outputs": [
    {
     "data": {
      "text/plain": [
       "array(['Arts', 'Asia Society Museum', 'Film', 'Literature',\n",
       "       'Performing Arts', 'Creative Voices of Muslim Asia', 'Education',\n",
       "       'About', 'Resources', 'Policy', 'Asia Society Policy Institute',\n",
       "       'Center on U.S.-China Relations', nan, 'Initiatives', 'Leadership',\n",
       "       'Sustainability', 'Current Affairs', 'Topics', 'Programming',\n",
       "       'Watch & Read', 'Asia Blog', 'Video Gallery', 'ChinaFile', 'Events',\n",
       "       'Upcoming Events', 'Past Events', 'About Asia Society',\n",
       "       'Mission & History', 'Co-Chairs and Trustees', 'Officers',\n",
       "       'Global Staff', 'Experts & Fellows', 'Global Council',\n",
       "       'Career Opportunities', 'Financial Statements', 'For the Media',\n",
       "       'support', 'Corporate Involvement', 'Membership', 'Special Events',\n",
       "       'Donate', 'New York,Museum', 'Hong Kong', 'Houston', 'Los Angeles',\n",
       "       'Manila', 'Mumbai', 'San Francisco', 'Seoul', 'Shanghai', 'Sydney',\n",
       "       'Washington, DC', 'Video', 'For Kids', 'AsiaStore',\n",
       "       'Arts & Museum Summit', 'Asia 21 Young Leaders',\n",
       "       'China Learning Initiatives', 'Global Cities Education Network',\n",
       "       'Global Learning Beyond School', 'Global Competence Certificate',\n",
       "       'Global Talent Initiatives', \"Int'l Studies Schools Network\",\n",
       "       'Pacific Cities Sustainability', 'U.S.-China Museum Leaders Forum',\n",
       "       'Our People', 'Become a Member', 'E-Newsletters', 'Prosperity',\n",
       "       'Security', 'Central Asia', 'China', 'India', 'Iran', 'Myanmar',\n",
       "       'South Asia', 'Reports', 'Commentary', 'Mission', 'How We Work',\n",
       "       'Staff and Advisors', 'Network of Experts', 'Schwartz Fellows',\n",
       "       'Wadsworth Fellows', 'Schwartz Book Award',\n",
       "       'Founders and Supporters', 'Contact', 'About the Museum',\n",
       "       'Current Exhibitions', 'Upcoming Exhibitions', 'Past Exhibitions',\n",
       "       'Rockefeller Collection', 'Contemporary Art Collection',\n",
       "       'Exhibitions', 'Videos', 'Mission & Approach', 'Reach & Impact',\n",
       "       'Lesson Plans', 'Curriculum', 'How-to Guides', 'Publications',\n",
       "       'Background Reading on Asia', 'Mapping the Nation',\n",
       "       'Exchange & School Partnerships', 'Regions', 'Support Us', 'Home',\n",
       "       'Projects', 'International Studies Schools Network',\n",
       "       'Asia 21 Young Leaders Initiative',\n",
       "       'Pacific Cities Sustainability Initiative', 'Business',\n",
       "       'Environment', 'Governance', 'Beyond the Headlines',\n",
       "       'Business of Asia', 'Donatetotal', 'Northern California',\n",
       "       'Southern California', 'Texas', 'Washington DC', 'New York',\n",
       "       'Australia', 'Philippines', 'Korea', 'Search',\n",
       "       'http://t.co/umgOifXTsE',\n",
       "       'http://t.co/zUnvKCWHax,http://t.co/gV8E5MaJxI',\n",
       "       '#Nepal,#Everest,http://t.co/fSx8NDVB9m,#mountaineering',\n",
       "       'http://t.co/71JCi1iHEZ,http://t.co/l0872A7q55'], dtype=object)"
      ]
     },
     "execution_count": 3,
     "metadata": {},
     "output_type": "execute_result"
    }
   ],
   "source": [
    "a = pd.read_csv('/Users/bowonchung/Documents/ipython/scrapy/mySpidy/asia.csv')\n",
    "a['title'].unique()"
   ]
  },
  {
   "cell_type": "code",
   "execution_count": 14,
   "metadata": {
    "collapsed": false
   },
   "outputs": [],
   "source": [
    "a['splited'] = a['link'].str.split('/')\n",
    "s2 = pd.Series(a['splited']).apply(pd.Series)\n",
    "s2.head() #total num of s2 = 219\n",
    "#save the result as csv\n",
    "s2.to_csv('asia_t.csv')"
   ]
  },
  {
   "cell_type": "code",
   "execution_count": 5,
   "metadata": {
    "collapsed": false
   },
   "outputs": [
    {
     "data": {
      "text/plain": [
       "policy-institute                         29\n",
       "about                                    22\n",
       "education                                18\n",
       "arts                                     18\n",
       "center-us-china-relations                13\n",
       "support                                  12\n",
       "current-affairs                           9\n",
       "events                                    6\n",
       "policy                                    4\n",
       "new-york                                  4\n",
       "initiatives                               4\n",
       "video                                     3\n",
       "global-learning-beyond-school             3\n",
       "blog                                      3\n",
       "northern-california                       3\n",
       "southern-california                       2\n",
       "hong-kong                                 2\n",
       "korea                                     2\n",
       "shanghai                                  2\n",
       "india                                     2\n",
       "global-talent-initiatives                 2\n",
       "creative-voices-muslim-asia               2\n",
       "global-staff                              2\n",
       "washington-dc                             2\n",
       "watch-read                                2\n",
       "texas                                     2\n",
       "media                                     2\n",
       "philippines                               2\n",
       ",                                         1\n",
       "global-cities-education-network           1\n",
       "china-learning-initiatives                1\n",
       "node                                      1\n",
       "international-studies-schools-network     1\n",
       "e-mail-subscriptions                      1\n",
       "inititiatives                             1\n",
       "about-asia-society-museum                 1\n",
       "new-york,                                 1\n",
       "officers                                  1\n",
       "museumleaders                             1\n",
       "governance                                1\n",
       "australia                                 1\n",
       "museum                                    1\n",
       "australasia                               1\n",
       "dtype: int64"
      ]
     },
     "execution_count": 5,
     "metadata": {},
     "output_type": "execute_result"
    }
   ],
   "source": [
    "lists = s2.ix[(s2[0] == '')]\n",
    "lists.head()\n",
    "asia = lists[1].value_counts() #total num of s2[1] = 192\n",
    "asia"
   ]
  },
  {
   "cell_type": "code",
   "execution_count": 6,
   "metadata": {
    "collapsed": false
   },
   "outputs": [
    {
     "data": {
      "text/plain": [
       "array([nan, 'asia-society-museum', 'film', 'literature', 'performing-arts',\n",
       "       'our-mission-and-approach', 'resources', 'arts-museum-summit',\n",
       "       'leadership', 'policy', 'sustainability', 'business', 'programming',\n",
       "       'asia', 'past', 'mission-history-0', 'co-chairs-and-trustees',\n",
       "       'officers', 'experts-and-fellows', 'global-council',\n",
       "       'career-opportunities', 'financial-statements', 'media',\n",
       "       'corporate-involvement', 'membership', 'special-events', 'donate',\n",
       "       'arts', 'center-us-china-relations', 'chinese-language-initiatives',\n",
       "       'creative-voices-muslim-asia', 'learning-world',\n",
       "       'international-studies-schools-network', 'about',\n",
       "       'us-china-museum-leaders-forum', 'prosperity', 'security',\n",
       "       'central-asia', 'china', 'india', 'iran', 'myanmar', 'south-asia',\n",
       "       'reports', 'commentary', 'mission', 'our-distinctive-approach',\n",
       "       'staff-and-advisors', 'network-experts',\n",
       "       'bernard-schwartz-fellows-program',\n",
       "       'jack-wadsworth-fellows-program', 'bernard-schwartz-book-award',\n",
       "       'founders-and-supporters', 'contact', 'exhibitions',\n",
       "       'rockefeller-collection', 'contemporary-art-collection',\n",
       "       'creative-voices-of-muslim-asia-resources',\n",
       "       'creative-voices-of-muslim-asia-exhibitions',\n",
       "       'creative-voices-of-muslim-asia-videos', 'initiatives',\n",
       "       'our-reach-and-impact', 'lesson-plans', 'curriculum',\n",
       "       'how-to-guides', 'publications', 'asia-101', 'mapping-nation',\n",
       "       'exchange-school-partnerships', 'topics', 'regions', 'events',\n",
       "       'support-us', 'projects', 'past-events', '38756', 'environment',\n",
       "       'beyond-headlines', 'business-asia', 'search'], dtype=object)"
      ]
     },
     "execution_count": 6,
     "metadata": {},
     "output_type": "execute_result"
    }
   ],
   "source": [
    "#art = s2.ix[(lists[1] == 'museum')|(lists[1] == 'arts')]\n",
    "lists[2].unique()\n",
    "#lists[2].count() #this value = 113"
   ]
  },
  {
   "cell_type": "code",
   "execution_count": 7,
   "metadata": {
    "collapsed": false
   },
   "outputs": [
    {
     "data": {
      "text/plain": [
       "asia-society-museum                         1\n",
       "current                                     1\n",
       "pacific-cities-sustainability-initiative    1\n",
       "upcoming                                    1\n",
       "past                                        1\n",
       "dtype: int64"
      ]
     },
     "execution_count": 7,
     "metadata": {},
     "output_type": "execute_result"
    }
   ],
   "source": [
    "#recategorizing the contents based since Asia society museum link category was pretty complext \n",
    "lists[3].value_counts()"
   ]
  },
  {
   "cell_type": "code",
   "execution_count": 8,
   "metadata": {
    "collapsed": false
   },
   "outputs": [
    {
     "data": {
      "text/plain": [
       "27"
      ]
     },
     "execution_count": 8,
     "metadata": {},
     "output_type": "execute_result"
    }
   ],
   "source": [
    "museum = lists.ix[(lists[2] == 'asia-society-museum')|\n",
    "(lists[2] == 'film')|\n",
    "(lists[2] == 'literature')|\n",
    "(lists[2] == 'performing-arts')|\n",
    "(lists[2] == 'resources')|\n",
    "(lists[2] == 'arts-museum-summit')|\n",
    "(lists[2] == 'media')|\n",
    "(lists[2] == 'special-events')|\n",
    "(lists[2] == 'donate')|\n",
    "(lists[2] == 'arts')|\n",
    "(lists[2] == 'creative-voices-muslim-asia')|\n",
    "(lists[2] == 'exhibitions')|\n",
    "(lists[2] == 'rockefeller-collection')|\n",
    "(lists[2] == 'contemporary-art-collection')|\n",
    "(lists[2] == 'creative-voices-of-muslim-asia-resources')|\n",
    "(lists[2] == 'creative-voices-of-muslim-asia-exhibitions')|\n",
    "(lists[2] == 'creative-voices-of-muslim-asia-videos')|\n",
    "(lists[2] == 'publications')]\n",
    "museum[0].count()\n"
   ]
  },
  {
   "cell_type": "code",
   "execution_count": 9,
   "metadata": {
    "collapsed": false
   },
   "outputs": [],
   "source": [
    "ml = [('asia-society-museum'),('film'),('literature'),('performing-arts'),\n",
    "('resources'),\n",
    "('arts-museum-summit'),\n",
    "('media'),\n",
    "('special-events'),\n",
    "('donate'),\n",
    "('arts'),\n",
    "('creative-voices-muslim-asia'),\n",
    "('exhibitions'),\n",
    "('rockefeller-collection'),\n",
    "('contemporary-art-collection'),\n",
    "('creative-voices-of-muslim-asia-resources'),\n",
    "('creative-voices-of-muslim-asia-exhibitions'),\n",
    "('creative-voices-of-muslim-asia-videos'),\n",
    "('publications')]\n",
    "el =[('resources'),\n",
    "     ('chinese-language-initiatives'), \n",
    "     ('learning-world'),\n",
    "     ('international-studies-schools-network'),\n",
    "     ('reports'),\n",
    "     ('commentary'),\n",
    "     ('bernard-schwartz-fellows-program'),\n",
    "     ('jack-wadsworth-fellows-program'),\n",
    "     ('bernard-schwartz-book-award'),\n",
    "     ('our-reach-and-impact'),\n",
    "     ('lesson-plans' ),\n",
    "     ('curriculum'),\n",
    "     ('how-to-guides'),\n",
    "     ('publications')]\n"
   ]
  },
  {
   "cell_type": "code",
   "execution_count": 10,
   "metadata": {
    "collapsed": false
   },
   "outputs": [
    {
     "data": {
      "text/plain": [
       "17"
      ]
     },
     "execution_count": 10,
     "metadata": {},
     "output_type": "execute_result"
    }
   ],
   "source": [
    "edu = lists.ix[(lists[2] == 'resources')|\n",
    "               (lists[2] == 'chinese-language-initiatives')|\n",
    "               (lists[2] == 'learning-world')|\n",
    "               (lists[2] == 'international-studies-schools-network')|\n",
    "               (lists[2] == 'reports')|\n",
    "               (lists[2] == 'commentary')|\n",
    "               (lists[2] == 'bernard-schwartz-fellows-program')|\n",
    "               (lists[2] == 'jack-wadsworth-fellows-program')|\n",
    "               (lists[2] == 'bernard-schwartz-book-award')|\n",
    "               (lists[2] == 'our-reach-and-impact')|\n",
    "               (lists[2] == 'lesson-plans' )|\n",
    "               (lists[2] == 'curriculum')|\n",
    "               (lists[2] == 'how-to-guides')|\n",
    "               (lists[2] =='publications')       \n",
    "               ]\n",
    "#checking the amount of educational contents \n",
    "edu[1].count()"
   ]
  },
  {
   "cell_type": "code",
   "execution_count": 11,
   "metadata": {
    "collapsed": false
   },
   "outputs": [
    {
     "data": {
      "text/plain": [
       "array(['education', 'policy-institute', 'center-us-china-relations'], dtype=object)"
      ]
     },
     "execution_count": 11,
     "metadata": {},
     "output_type": "execute_result"
    }
   ],
   "source": [
    "#confirm the folder name under education category \n",
    "edu[1].unique()\n",
    "#array(['education', 'policy-institute', 'center-us-china-relations'], dtype=object)"
   ]
  },
  {
   "cell_type": "code",
   "execution_count": 12,
   "metadata": {
    "collapsed": false
   },
   "outputs": [
    {
     "data": {
      "text/plain": [
       "array(['arts', 'education', 'about', 'support', 'new-york,', 'new-york',\n",
       "       'policy-institute'], dtype=object)"
      ]
     },
     "execution_count": 12,
     "metadata": {},
     "output_type": "execute_result"
    }
   ],
   "source": [
    "museum[1].unique()"
   ]
  },
  {
   "cell_type": "code",
   "execution_count": 13,
   "metadata": {
    "collapsed": false
   },
   "outputs": [
    {
     "data": {
      "text/html": [
       "<div style=\"max-height:1000px;max-width:1500px;overflow:auto;\">\n",
       "<table border=\"1\" class=\"dataframe\">\n",
       "  <thead>\n",
       "    <tr style=\"text-align: right;\">\n",
       "      <th></th>\n",
       "      <th>0</th>\n",
       "      <th>1</th>\n",
       "      <th>2</th>\n",
       "      <th>3</th>\n",
       "      <th>4</th>\n",
       "      <th>5</th>\n",
       "      <th>6</th>\n",
       "      <th>7</th>\n",
       "      <th>8</th>\n",
       "      <th>9</th>\n",
       "      <th>10</th>\n",
       "      <th>11</th>\n",
       "      <th>12</th>\n",
       "    </tr>\n",
       "  </thead>\n",
       "  <tbody>\n",
       "    <tr>\n",
       "      <th>12 </th>\n",
       "      <td>                                              NaN</td>\n",
       "      <td> NaN</td>\n",
       "      <td>                                 NaN</td>\n",
       "      <td>                      NaN</td>\n",
       "      <td>          NaN</td>\n",
       "      <td>               NaN</td>\n",
       "      <td>                       NaN</td>\n",
       "      <td>         NaN</td>\n",
       "      <td>         NaN</td>\n",
       "      <td>               NaN</td>\n",
       "      <td> NaN</td>\n",
       "      <td>         NaN</td>\n",
       "      <td>                        NaN</td>\n",
       "    </tr>\n",
       "    <tr>\n",
       "      <th>19 </th>\n",
       "      <td>                                              NaN</td>\n",
       "      <td> NaN</td>\n",
       "      <td>                                 NaN</td>\n",
       "      <td>                      NaN</td>\n",
       "      <td>          NaN</td>\n",
       "      <td>               NaN</td>\n",
       "      <td>                       NaN</td>\n",
       "      <td>         NaN</td>\n",
       "      <td>         NaN</td>\n",
       "      <td>               NaN</td>\n",
       "      <td> NaN</td>\n",
       "      <td>         NaN</td>\n",
       "      <td>                        NaN</td>\n",
       "    </tr>\n",
       "    <tr>\n",
       "      <th>27 </th>\n",
       "      <td>                                           https:</td>\n",
       "      <td>    </td>\n",
       "      <td>                   www.chinafile.com</td>\n",
       "      <td>                         </td>\n",
       "      <td>          NaN</td>\n",
       "      <td>               NaN</td>\n",
       "      <td>                       NaN</td>\n",
       "      <td>         NaN</td>\n",
       "      <td>         NaN</td>\n",
       "      <td>               NaN</td>\n",
       "      <td> NaN</td>\n",
       "      <td>         NaN</td>\n",
       "      <td>                        NaN</td>\n",
       "    </tr>\n",
       "    <tr>\n",
       "      <th>28 </th>\n",
       "      <td>                                              NaN</td>\n",
       "      <td> NaN</td>\n",
       "      <td>                                 NaN</td>\n",
       "      <td>                      NaN</td>\n",
       "      <td>          NaN</td>\n",
       "      <td>               NaN</td>\n",
       "      <td>                       NaN</td>\n",
       "      <td>         NaN</td>\n",
       "      <td>         NaN</td>\n",
       "      <td>               NaN</td>\n",
       "      <td> NaN</td>\n",
       "      <td>         NaN</td>\n",
       "      <td>                        NaN</td>\n",
       "    </tr>\n",
       "    <tr>\n",
       "      <th>51 </th>\n",
       "      <td>                                              NaN</td>\n",
       "      <td> NaN</td>\n",
       "      <td>                                 NaN</td>\n",
       "      <td>                      NaN</td>\n",
       "      <td>          NaN</td>\n",
       "      <td>               NaN</td>\n",
       "      <td>                       NaN</td>\n",
       "      <td>         NaN</td>\n",
       "      <td>         NaN</td>\n",
       "      <td>               NaN</td>\n",
       "      <td> NaN</td>\n",
       "      <td>         NaN</td>\n",
       "      <td>                        NaN</td>\n",
       "    </tr>\n",
       "    <tr>\n",
       "      <th>53 </th>\n",
       "      <td>                                              NaN</td>\n",
       "      <td> NaN</td>\n",
       "      <td>                                 NaN</td>\n",
       "      <td>                      NaN</td>\n",
       "      <td>          NaN</td>\n",
       "      <td>               NaN</td>\n",
       "      <td>                       NaN</td>\n",
       "      <td>         NaN</td>\n",
       "      <td>         NaN</td>\n",
       "      <td>               NaN</td>\n",
       "      <td> NaN</td>\n",
       "      <td>         NaN</td>\n",
       "      <td>                        NaN</td>\n",
       "    </tr>\n",
       "    <tr>\n",
       "      <th>56 </th>\n",
       "      <td>                                              NaN</td>\n",
       "      <td> NaN</td>\n",
       "      <td>                                 NaN</td>\n",
       "      <td>                      NaN</td>\n",
       "      <td>          NaN</td>\n",
       "      <td>               NaN</td>\n",
       "      <td>                       NaN</td>\n",
       "      <td>         NaN</td>\n",
       "      <td>         NaN</td>\n",
       "      <td>               NaN</td>\n",
       "      <td> NaN</td>\n",
       "      <td>         NaN</td>\n",
       "      <td>                        NaN</td>\n",
       "    </tr>\n",
       "    <tr>\n",
       "      <th>60 </th>\n",
       "      <td> #mini-panel-homepage-tabbed-content-middle-tab-2</td>\n",
       "      <td> NaN</td>\n",
       "      <td>                                 NaN</td>\n",
       "      <td>                      NaN</td>\n",
       "      <td>          NaN</td>\n",
       "      <td>               NaN</td>\n",
       "      <td>                       NaN</td>\n",
       "      <td>         NaN</td>\n",
       "      <td>         NaN</td>\n",
       "      <td>               NaN</td>\n",
       "      <td> NaN</td>\n",
       "      <td>         NaN</td>\n",
       "      <td>                        NaN</td>\n",
       "    </tr>\n",
       "    <tr>\n",
       "      <th>61 </th>\n",
       "      <td> #mini-panel-homepage-tabbed-content-middle-tab-3</td>\n",
       "      <td> NaN</td>\n",
       "      <td>                                 NaN</td>\n",
       "      <td>                      NaN</td>\n",
       "      <td>          NaN</td>\n",
       "      <td>               NaN</td>\n",
       "      <td>                       NaN</td>\n",
       "      <td>         NaN</td>\n",
       "      <td>         NaN</td>\n",
       "      <td>               NaN</td>\n",
       "      <td> NaN</td>\n",
       "      <td>         NaN</td>\n",
       "      <td>                        NaN</td>\n",
       "    </tr>\n",
       "    <tr>\n",
       "      <th>62 </th>\n",
       "      <td> #mini-panel-homepage-tabbed-content-middle-tab-4</td>\n",
       "      <td> NaN</td>\n",
       "      <td>                                 NaN</td>\n",
       "      <td>                      NaN</td>\n",
       "      <td>          NaN</td>\n",
       "      <td>               NaN</td>\n",
       "      <td>                       NaN</td>\n",
       "      <td>         NaN</td>\n",
       "      <td>         NaN</td>\n",
       "      <td>               NaN</td>\n",
       "      <td> NaN</td>\n",
       "      <td>         NaN</td>\n",
       "      <td>                        NaN</td>\n",
       "    </tr>\n",
       "    <tr>\n",
       "      <th>80 </th>\n",
       "      <td>                                            http:</td>\n",
       "      <td>    </td>\n",
       "      <td>                       chinafile.com</td>\n",
       "      <td>                      NaN</td>\n",
       "      <td>          NaN</td>\n",
       "      <td>               NaN</td>\n",
       "      <td>                       NaN</td>\n",
       "      <td>         NaN</td>\n",
       "      <td>         NaN</td>\n",
       "      <td>               NaN</td>\n",
       "      <td> NaN</td>\n",
       "      <td>         NaN</td>\n",
       "      <td>                        NaN</td>\n",
       "    </tr>\n",
       "    <tr>\n",
       "      <th>81 </th>\n",
       "      <td>                                            http:</td>\n",
       "      <td>    </td>\n",
       "      <td>                kids.asiasociety.org</td>\n",
       "      <td>                         </td>\n",
       "      <td>          NaN</td>\n",
       "      <td>               NaN</td>\n",
       "      <td>                       NaN</td>\n",
       "      <td>         NaN</td>\n",
       "      <td>         NaN</td>\n",
       "      <td>               NaN</td>\n",
       "      <td> NaN</td>\n",
       "      <td>         NaN</td>\n",
       "      <td>                        NaN</td>\n",
       "    </tr>\n",
       "    <tr>\n",
       "      <th>82 </th>\n",
       "      <td>                                            http:</td>\n",
       "      <td>    </td>\n",
       "      <td>                   www.asiastore.org</td>\n",
       "      <td>                         </td>\n",
       "      <td>          NaN</td>\n",
       "      <td>               NaN</td>\n",
       "      <td>                       NaN</td>\n",
       "      <td>         NaN</td>\n",
       "      <td>         NaN</td>\n",
       "      <td>               NaN</td>\n",
       "      <td> NaN</td>\n",
       "      <td>         NaN</td>\n",
       "      <td>                        NaN</td>\n",
       "    </tr>\n",
       "    <tr>\n",
       "      <th>91 </th>\n",
       "      <td>                                            http:</td>\n",
       "      <td>    </td>\n",
       "      <td> www.globalcompetencecertificate.org</td>\n",
       "      <td>                         </td>\n",
       "      <td>          NaN</td>\n",
       "      <td>               NaN</td>\n",
       "      <td>                       NaN</td>\n",
       "      <td>         NaN</td>\n",
       "      <td>         NaN</td>\n",
       "      <td>               NaN</td>\n",
       "      <td> NaN</td>\n",
       "      <td>         NaN</td>\n",
       "      <td>                        NaN</td>\n",
       "    </tr>\n",
       "    <tr>\n",
       "      <th>155</th>\n",
       "      <td>                                            http:</td>\n",
       "      <td>    </td>\n",
       "      <td>                   www.chinafile.com</td>\n",
       "      <td>                         </td>\n",
       "      <td>          NaN</td>\n",
       "      <td>               NaN</td>\n",
       "      <td>                       NaN</td>\n",
       "      <td>         NaN</td>\n",
       "      <td>         NaN</td>\n",
       "      <td>               NaN</td>\n",
       "      <td> NaN</td>\n",
       "      <td>         NaN</td>\n",
       "      <td>                        NaN</td>\n",
       "    </tr>\n",
       "    <tr>\n",
       "      <th>178</th>\n",
       "      <td>                                            http:</td>\n",
       "      <td>    </td>\n",
       "      <td>                   www.chinafile.com</td>\n",
       "      <td>                         </td>\n",
       "      <td>          NaN</td>\n",
       "      <td>               NaN</td>\n",
       "      <td>                       NaN</td>\n",
       "      <td>         NaN</td>\n",
       "      <td>         NaN</td>\n",
       "      <td>               NaN</td>\n",
       "      <td> NaN</td>\n",
       "      <td>         NaN</td>\n",
       "      <td>                        NaN</td>\n",
       "    </tr>\n",
       "    <tr>\n",
       "      <th>181</th>\n",
       "      <td>                                           https:</td>\n",
       "      <td>    </td>\n",
       "      <td>                   www.chinafile.com</td>\n",
       "      <td>                         </td>\n",
       "      <td>          NaN</td>\n",
       "      <td>               NaN</td>\n",
       "      <td>                       NaN</td>\n",
       "      <td>         NaN</td>\n",
       "      <td>         NaN</td>\n",
       "      <td>               NaN</td>\n",
       "      <td> NaN</td>\n",
       "      <td>         NaN</td>\n",
       "      <td>                        NaN</td>\n",
       "    </tr>\n",
       "    <tr>\n",
       "      <th>211</th>\n",
       "      <td>                                            http:</td>\n",
       "      <td>    </td>\n",
       "      <td>                kids.asiasociety.org</td>\n",
       "      <td>                         </td>\n",
       "      <td>          NaN</td>\n",
       "      <td>               NaN</td>\n",
       "      <td>                       NaN</td>\n",
       "      <td>         NaN</td>\n",
       "      <td>         NaN</td>\n",
       "      <td>               NaN</td>\n",
       "      <td> NaN</td>\n",
       "      <td>         NaN</td>\n",
       "      <td>                        NaN</td>\n",
       "    </tr>\n",
       "    <tr>\n",
       "      <th>217</th>\n",
       "      <td>                                            http:</td>\n",
       "      <td>    </td>\n",
       "      <td>                       asiastore.org</td>\n",
       "      <td>                      NaN</td>\n",
       "      <td>          NaN</td>\n",
       "      <td>               NaN</td>\n",
       "      <td>                       NaN</td>\n",
       "      <td>         NaN</td>\n",
       "      <td>         NaN</td>\n",
       "      <td>               NaN</td>\n",
       "      <td> NaN</td>\n",
       "      <td>         NaN</td>\n",
       "      <td>                        NaN</td>\n",
       "    </tr>\n",
       "    <tr>\n",
       "      <th>219</th>\n",
       "      <td>                                           https:</td>\n",
       "      <td>    </td>\n",
       "      <td>                         twitter.com</td>\n",
       "      <td>              AsiaSociety</td>\n",
       "      <td>          NaN</td>\n",
       "      <td>               NaN</td>\n",
       "      <td>                       NaN</td>\n",
       "      <td>         NaN</td>\n",
       "      <td>         NaN</td>\n",
       "      <td>               NaN</td>\n",
       "      <td> NaN</td>\n",
       "      <td>         NaN</td>\n",
       "      <td>                        NaN</td>\n",
       "    </tr>\n",
       "    <tr>\n",
       "      <th>220</th>\n",
       "      <td>                                            http:</td>\n",
       "      <td>    </td>\n",
       "      <td>                                t.co</td>\n",
       "      <td>               umgOifXTsE</td>\n",
       "      <td>          NaN</td>\n",
       "      <td>               NaN</td>\n",
       "      <td>                       NaN</td>\n",
       "      <td>         NaN</td>\n",
       "      <td>         NaN</td>\n",
       "      <td>               NaN</td>\n",
       "      <td> NaN</td>\n",
       "      <td>         NaN</td>\n",
       "      <td>                        NaN</td>\n",
       "    </tr>\n",
       "    <tr>\n",
       "      <th>221</th>\n",
       "      <td>                                            http:</td>\n",
       "      <td>    </td>\n",
       "      <td>                                t.co</td>\n",
       "      <td>         zUnvKCWHax,http:</td>\n",
       "      <td>             </td>\n",
       "      <td>              t.co</td>\n",
       "      <td>                gV8E5MaJxI</td>\n",
       "      <td>         NaN</td>\n",
       "      <td>         NaN</td>\n",
       "      <td>               NaN</td>\n",
       "      <td> NaN</td>\n",
       "      <td>         NaN</td>\n",
       "      <td>                        NaN</td>\n",
       "    </tr>\n",
       "    <tr>\n",
       "      <th>222</th>\n",
       "      <td>                                           https:</td>\n",
       "      <td>    </td>\n",
       "      <td>                         twitter.com</td>\n",
       "      <td> search?q=%23Nepal,https:</td>\n",
       "      <td>             </td>\n",
       "      <td>       twitter.com</td>\n",
       "      <td> search?q=%23Everest,http:</td>\n",
       "      <td>            </td>\n",
       "      <td>        t.co</td>\n",
       "      <td> fSx8NDVB9m,https:</td>\n",
       "      <td>    </td>\n",
       "      <td> twitter.com</td>\n",
       "      <td> search?q=%23mountaineering</td>\n",
       "    </tr>\n",
       "    <tr>\n",
       "      <th>223</th>\n",
       "      <td>                                            http:</td>\n",
       "      <td>    </td>\n",
       "      <td>                                t.co</td>\n",
       "      <td>         71JCi1iHEZ,http:</td>\n",
       "      <td>             </td>\n",
       "      <td>              t.co</td>\n",
       "      <td>                l0872A7q55</td>\n",
       "      <td>         NaN</td>\n",
       "      <td>         NaN</td>\n",
       "      <td>               NaN</td>\n",
       "      <td> NaN</td>\n",
       "      <td>         NaN</td>\n",
       "      <td>                        NaN</td>\n",
       "    </tr>\n",
       "    <tr>\n",
       "      <th>224</th>\n",
       "      <td>                                            http:</td>\n",
       "      <td>    </td>\n",
       "      <td>                    www.facebook.com</td>\n",
       "      <td>                    pages</td>\n",
       "      <td> Asia-Society</td>\n",
       "      <td> 13784635711,http:</td>\n",
       "      <td>                          </td>\n",
       "      <td> twitter.com</td>\n",
       "      <td> asiasociety</td>\n",
       "      <td>               NaN</td>\n",
       "      <td> NaN</td>\n",
       "      <td>         NaN</td>\n",
       "      <td>                        NaN</td>\n",
       "    </tr>\n",
       "  </tbody>\n",
       "</table>\n",
       "</div>"
      ],
      "text/plain": [
       "                                                   0    1   \\\n",
       "12                                                NaN  NaN   \n",
       "19                                                NaN  NaN   \n",
       "27                                             https:        \n",
       "28                                                NaN  NaN   \n",
       "51                                                NaN  NaN   \n",
       "53                                                NaN  NaN   \n",
       "56                                                NaN  NaN   \n",
       "60   #mini-panel-homepage-tabbed-content-middle-tab-2  NaN   \n",
       "61   #mini-panel-homepage-tabbed-content-middle-tab-3  NaN   \n",
       "62   #mini-panel-homepage-tabbed-content-middle-tab-4  NaN   \n",
       "80                                              http:        \n",
       "81                                              http:        \n",
       "82                                              http:        \n",
       "91                                              http:        \n",
       "155                                             http:        \n",
       "178                                             http:        \n",
       "181                                            https:        \n",
       "211                                             http:        \n",
       "217                                             http:        \n",
       "219                                            https:        \n",
       "220                                             http:        \n",
       "221                                             http:        \n",
       "222                                            https:        \n",
       "223                                             http:        \n",
       "224                                             http:        \n",
       "\n",
       "                                      2                         3   \\\n",
       "12                                   NaN                       NaN   \n",
       "19                                   NaN                       NaN   \n",
       "27                     www.chinafile.com                             \n",
       "28                                   NaN                       NaN   \n",
       "51                                   NaN                       NaN   \n",
       "53                                   NaN                       NaN   \n",
       "56                                   NaN                       NaN   \n",
       "60                                   NaN                       NaN   \n",
       "61                                   NaN                       NaN   \n",
       "62                                   NaN                       NaN   \n",
       "80                         chinafile.com                       NaN   \n",
       "81                  kids.asiasociety.org                             \n",
       "82                     www.asiastore.org                             \n",
       "91   www.globalcompetencecertificate.org                             \n",
       "155                    www.chinafile.com                             \n",
       "178                    www.chinafile.com                             \n",
       "181                    www.chinafile.com                             \n",
       "211                 kids.asiasociety.org                             \n",
       "217                        asiastore.org                       NaN   \n",
       "219                          twitter.com               AsiaSociety   \n",
       "220                                 t.co                umgOifXTsE   \n",
       "221                                 t.co          zUnvKCWHax,http:   \n",
       "222                          twitter.com  search?q=%23Nepal,https:   \n",
       "223                                 t.co          71JCi1iHEZ,http:   \n",
       "224                     www.facebook.com                     pages   \n",
       "\n",
       "               4                  5                          6            7   \\\n",
       "12            NaN                NaN                        NaN          NaN   \n",
       "19            NaN                NaN                        NaN          NaN   \n",
       "27            NaN                NaN                        NaN          NaN   \n",
       "28            NaN                NaN                        NaN          NaN   \n",
       "51            NaN                NaN                        NaN          NaN   \n",
       "53            NaN                NaN                        NaN          NaN   \n",
       "56            NaN                NaN                        NaN          NaN   \n",
       "60            NaN                NaN                        NaN          NaN   \n",
       "61            NaN                NaN                        NaN          NaN   \n",
       "62            NaN                NaN                        NaN          NaN   \n",
       "80            NaN                NaN                        NaN          NaN   \n",
       "81            NaN                NaN                        NaN          NaN   \n",
       "82            NaN                NaN                        NaN          NaN   \n",
       "91            NaN                NaN                        NaN          NaN   \n",
       "155           NaN                NaN                        NaN          NaN   \n",
       "178           NaN                NaN                        NaN          NaN   \n",
       "181           NaN                NaN                        NaN          NaN   \n",
       "211           NaN                NaN                        NaN          NaN   \n",
       "217           NaN                NaN                        NaN          NaN   \n",
       "219           NaN                NaN                        NaN          NaN   \n",
       "220           NaN                NaN                        NaN          NaN   \n",
       "221                             t.co                 gV8E5MaJxI          NaN   \n",
       "222                      twitter.com  search?q=%23Everest,http:                \n",
       "223                             t.co                 l0872A7q55          NaN   \n",
       "224  Asia-Society  13784635711,http:                             twitter.com   \n",
       "\n",
       "              8                  9    10           11  \\\n",
       "12           NaN                NaN  NaN          NaN   \n",
       "19           NaN                NaN  NaN          NaN   \n",
       "27           NaN                NaN  NaN          NaN   \n",
       "28           NaN                NaN  NaN          NaN   \n",
       "51           NaN                NaN  NaN          NaN   \n",
       "53           NaN                NaN  NaN          NaN   \n",
       "56           NaN                NaN  NaN          NaN   \n",
       "60           NaN                NaN  NaN          NaN   \n",
       "61           NaN                NaN  NaN          NaN   \n",
       "62           NaN                NaN  NaN          NaN   \n",
       "80           NaN                NaN  NaN          NaN   \n",
       "81           NaN                NaN  NaN          NaN   \n",
       "82           NaN                NaN  NaN          NaN   \n",
       "91           NaN                NaN  NaN          NaN   \n",
       "155          NaN                NaN  NaN          NaN   \n",
       "178          NaN                NaN  NaN          NaN   \n",
       "181          NaN                NaN  NaN          NaN   \n",
       "211          NaN                NaN  NaN          NaN   \n",
       "217          NaN                NaN  NaN          NaN   \n",
       "219          NaN                NaN  NaN          NaN   \n",
       "220          NaN                NaN  NaN          NaN   \n",
       "221          NaN                NaN  NaN          NaN   \n",
       "222         t.co  fSx8NDVB9m,https:       twitter.com   \n",
       "223          NaN                NaN  NaN          NaN   \n",
       "224  asiasociety                NaN  NaN          NaN   \n",
       "\n",
       "                             12  \n",
       "12                          NaN  \n",
       "19                          NaN  \n",
       "27                          NaN  \n",
       "28                          NaN  \n",
       "51                          NaN  \n",
       "53                          NaN  \n",
       "56                          NaN  \n",
       "60                          NaN  \n",
       "61                          NaN  \n",
       "62                          NaN  \n",
       "80                          NaN  \n",
       "81                          NaN  \n",
       "82                          NaN  \n",
       "91                          NaN  \n",
       "155                         NaN  \n",
       "178                         NaN  \n",
       "181                         NaN  \n",
       "211                         NaN  \n",
       "217                         NaN  \n",
       "219                         NaN  \n",
       "220                         NaN  \n",
       "221                         NaN  \n",
       "222  search?q=%23mountaineering  \n",
       "223                         NaN  \n",
       "224                         NaN  "
      ]
     },
     "execution_count": 13,
     "metadata": {},
     "output_type": "execute_result"
    }
   ],
   "source": [
    "#cleansing up the rest of result data\n",
    "list_o = s2.ix[(s2[0] != '')&(s2[2] != 'asiasociety.org') & (s2[2] != 'sites.asiasociety.org')]\n",
    "asia_o = list_o[2].value_counts()\n",
    "#need to organize links \n",
    "#asia_o\n"
   ]
  },
  {
   "cell_type": "code",
   "execution_count": 14,
   "metadata": {
    "collapsed": false
   },
   "outputs": [
    {
     "data": {
      "text/html": [
       "<div style=\"max-height:1000px;max-width:1500px;overflow:auto;\">\n",
       "<table border=\"1\" class=\"dataframe\">\n",
       "  <thead>\n",
       "    <tr style=\"text-align: right;\">\n",
       "      <th></th>\n",
       "      <th>0</th>\n",
       "      <th>1</th>\n",
       "      <th>2</th>\n",
       "      <th>3</th>\n",
       "      <th>4</th>\n",
       "      <th>5</th>\n",
       "      <th>6</th>\n",
       "      <th>7</th>\n",
       "      <th>8</th>\n",
       "      <th>9</th>\n",
       "      <th>10</th>\n",
       "      <th>11</th>\n",
       "      <th>12</th>\n",
       "    </tr>\n",
       "  </thead>\n",
       "  <tbody>\n",
       "    <tr>\n",
       "      <th>220</th>\n",
       "      <td> http:</td>\n",
       "      <td> </td>\n",
       "      <td> t.co</td>\n",
       "      <td>       umgOifXTsE</td>\n",
       "      <td> NaN</td>\n",
       "      <td>  NaN</td>\n",
       "      <td>        NaN</td>\n",
       "      <td> NaN</td>\n",
       "      <td> NaN</td>\n",
       "      <td> NaN</td>\n",
       "      <td> NaN</td>\n",
       "      <td> NaN</td>\n",
       "      <td> NaN</td>\n",
       "    </tr>\n",
       "    <tr>\n",
       "      <th>221</th>\n",
       "      <td> http:</td>\n",
       "      <td> </td>\n",
       "      <td> t.co</td>\n",
       "      <td> zUnvKCWHax,http:</td>\n",
       "      <td>    </td>\n",
       "      <td> t.co</td>\n",
       "      <td> gV8E5MaJxI</td>\n",
       "      <td> NaN</td>\n",
       "      <td> NaN</td>\n",
       "      <td> NaN</td>\n",
       "      <td> NaN</td>\n",
       "      <td> NaN</td>\n",
       "      <td> NaN</td>\n",
       "    </tr>\n",
       "    <tr>\n",
       "      <th>223</th>\n",
       "      <td> http:</td>\n",
       "      <td> </td>\n",
       "      <td> t.co</td>\n",
       "      <td> 71JCi1iHEZ,http:</td>\n",
       "      <td>    </td>\n",
       "      <td> t.co</td>\n",
       "      <td> l0872A7q55</td>\n",
       "      <td> NaN</td>\n",
       "      <td> NaN</td>\n",
       "      <td> NaN</td>\n",
       "      <td> NaN</td>\n",
       "      <td> NaN</td>\n",
       "      <td> NaN</td>\n",
       "    </tr>\n",
       "  </tbody>\n",
       "</table>\n",
       "</div>"
      ],
      "text/plain": [
       "        0  1     2                 3    4     5           6    7    8    9   \\\n",
       "220  http:     t.co        umgOifXTsE  NaN   NaN         NaN  NaN  NaN  NaN   \n",
       "221  http:     t.co  zUnvKCWHax,http:       t.co  gV8E5MaJxI  NaN  NaN  NaN   \n",
       "223  http:     t.co  71JCi1iHEZ,http:       t.co  l0872A7q55  NaN  NaN  NaN   \n",
       "\n",
       "      10   11   12  \n",
       "220  NaN  NaN  NaN  \n",
       "221  NaN  NaN  NaN  \n",
       "223  NaN  NaN  NaN  "
      ]
     },
     "execution_count": 14,
     "metadata": {},
     "output_type": "execute_result"
    }
   ],
   "source": [
    "#selecting External URL by selective row starting 'http:'\n",
    "list_t = s2.ix[(s2[2] == 't.co')]\n",
    "list_t #news link "
   ]
  },
  {
   "cell_type": "code",
   "execution_count": 15,
   "metadata": {
    "collapsed": false
   },
   "outputs": [
    {
     "data": {
      "text/html": [
       "<div style=\"max-height:1000px;max-width:1500px;overflow:auto;\">\n",
       "<table border=\"1\" class=\"dataframe\">\n",
       "  <thead>\n",
       "    <tr style=\"text-align: right;\">\n",
       "      <th></th>\n",
       "      <th>0</th>\n",
       "      <th>1</th>\n",
       "      <th>2</th>\n",
       "      <th>3</th>\n",
       "      <th>4</th>\n",
       "      <th>5</th>\n",
       "      <th>6</th>\n",
       "      <th>7</th>\n",
       "      <th>8</th>\n",
       "      <th>9</th>\n",
       "      <th>10</th>\n",
       "      <th>11</th>\n",
       "      <th>12</th>\n",
       "    </tr>\n",
       "  </thead>\n",
       "  <tbody>\n",
       "    <tr>\n",
       "      <th>12</th>\n",
       "      <td>                                              NaN</td>\n",
       "      <td> NaN</td>\n",
       "      <td> NaN</td>\n",
       "      <td> NaN</td>\n",
       "      <td> NaN</td>\n",
       "      <td> NaN</td>\n",
       "      <td> NaN</td>\n",
       "      <td> NaN</td>\n",
       "      <td> NaN</td>\n",
       "      <td> NaN</td>\n",
       "      <td> NaN</td>\n",
       "      <td> NaN</td>\n",
       "      <td> NaN</td>\n",
       "    </tr>\n",
       "    <tr>\n",
       "      <th>19</th>\n",
       "      <td>                                              NaN</td>\n",
       "      <td> NaN</td>\n",
       "      <td> NaN</td>\n",
       "      <td> NaN</td>\n",
       "      <td> NaN</td>\n",
       "      <td> NaN</td>\n",
       "      <td> NaN</td>\n",
       "      <td> NaN</td>\n",
       "      <td> NaN</td>\n",
       "      <td> NaN</td>\n",
       "      <td> NaN</td>\n",
       "      <td> NaN</td>\n",
       "      <td> NaN</td>\n",
       "    </tr>\n",
       "    <tr>\n",
       "      <th>28</th>\n",
       "      <td>                                              NaN</td>\n",
       "      <td> NaN</td>\n",
       "      <td> NaN</td>\n",
       "      <td> NaN</td>\n",
       "      <td> NaN</td>\n",
       "      <td> NaN</td>\n",
       "      <td> NaN</td>\n",
       "      <td> NaN</td>\n",
       "      <td> NaN</td>\n",
       "      <td> NaN</td>\n",
       "      <td> NaN</td>\n",
       "      <td> NaN</td>\n",
       "      <td> NaN</td>\n",
       "    </tr>\n",
       "    <tr>\n",
       "      <th>51</th>\n",
       "      <td>                                              NaN</td>\n",
       "      <td> NaN</td>\n",
       "      <td> NaN</td>\n",
       "      <td> NaN</td>\n",
       "      <td> NaN</td>\n",
       "      <td> NaN</td>\n",
       "      <td> NaN</td>\n",
       "      <td> NaN</td>\n",
       "      <td> NaN</td>\n",
       "      <td> NaN</td>\n",
       "      <td> NaN</td>\n",
       "      <td> NaN</td>\n",
       "      <td> NaN</td>\n",
       "    </tr>\n",
       "    <tr>\n",
       "      <th>53</th>\n",
       "      <td>                                              NaN</td>\n",
       "      <td> NaN</td>\n",
       "      <td> NaN</td>\n",
       "      <td> NaN</td>\n",
       "      <td> NaN</td>\n",
       "      <td> NaN</td>\n",
       "      <td> NaN</td>\n",
       "      <td> NaN</td>\n",
       "      <td> NaN</td>\n",
       "      <td> NaN</td>\n",
       "      <td> NaN</td>\n",
       "      <td> NaN</td>\n",
       "      <td> NaN</td>\n",
       "    </tr>\n",
       "    <tr>\n",
       "      <th>56</th>\n",
       "      <td>                                              NaN</td>\n",
       "      <td> NaN</td>\n",
       "      <td> NaN</td>\n",
       "      <td> NaN</td>\n",
       "      <td> NaN</td>\n",
       "      <td> NaN</td>\n",
       "      <td> NaN</td>\n",
       "      <td> NaN</td>\n",
       "      <td> NaN</td>\n",
       "      <td> NaN</td>\n",
       "      <td> NaN</td>\n",
       "      <td> NaN</td>\n",
       "      <td> NaN</td>\n",
       "    </tr>\n",
       "    <tr>\n",
       "      <th>60</th>\n",
       "      <td> #mini-panel-homepage-tabbed-content-middle-tab-2</td>\n",
       "      <td> NaN</td>\n",
       "      <td> NaN</td>\n",
       "      <td> NaN</td>\n",
       "      <td> NaN</td>\n",
       "      <td> NaN</td>\n",
       "      <td> NaN</td>\n",
       "      <td> NaN</td>\n",
       "      <td> NaN</td>\n",
       "      <td> NaN</td>\n",
       "      <td> NaN</td>\n",
       "      <td> NaN</td>\n",
       "      <td> NaN</td>\n",
       "    </tr>\n",
       "    <tr>\n",
       "      <th>61</th>\n",
       "      <td> #mini-panel-homepage-tabbed-content-middle-tab-3</td>\n",
       "      <td> NaN</td>\n",
       "      <td> NaN</td>\n",
       "      <td> NaN</td>\n",
       "      <td> NaN</td>\n",
       "      <td> NaN</td>\n",
       "      <td> NaN</td>\n",
       "      <td> NaN</td>\n",
       "      <td> NaN</td>\n",
       "      <td> NaN</td>\n",
       "      <td> NaN</td>\n",
       "      <td> NaN</td>\n",
       "      <td> NaN</td>\n",
       "    </tr>\n",
       "    <tr>\n",
       "      <th>62</th>\n",
       "      <td> #mini-panel-homepage-tabbed-content-middle-tab-4</td>\n",
       "      <td> NaN</td>\n",
       "      <td> NaN</td>\n",
       "      <td> NaN</td>\n",
       "      <td> NaN</td>\n",
       "      <td> NaN</td>\n",
       "      <td> NaN</td>\n",
       "      <td> NaN</td>\n",
       "      <td> NaN</td>\n",
       "      <td> NaN</td>\n",
       "      <td> NaN</td>\n",
       "      <td> NaN</td>\n",
       "      <td> NaN</td>\n",
       "    </tr>\n",
       "  </tbody>\n",
       "</table>\n",
       "</div>"
      ],
      "text/plain": [
       "                                                  0    1    2    3    4    5   \\\n",
       "12                                               NaN  NaN  NaN  NaN  NaN  NaN   \n",
       "19                                               NaN  NaN  NaN  NaN  NaN  NaN   \n",
       "28                                               NaN  NaN  NaN  NaN  NaN  NaN   \n",
       "51                                               NaN  NaN  NaN  NaN  NaN  NaN   \n",
       "53                                               NaN  NaN  NaN  NaN  NaN  NaN   \n",
       "56                                               NaN  NaN  NaN  NaN  NaN  NaN   \n",
       "60  #mini-panel-homepage-tabbed-content-middle-tab-2  NaN  NaN  NaN  NaN  NaN   \n",
       "61  #mini-panel-homepage-tabbed-content-middle-tab-3  NaN  NaN  NaN  NaN  NaN   \n",
       "62  #mini-panel-homepage-tabbed-content-middle-tab-4  NaN  NaN  NaN  NaN  NaN   \n",
       "\n",
       "     6    7    8    9    10   11   12  \n",
       "12  NaN  NaN  NaN  NaN  NaN  NaN  NaN  \n",
       "19  NaN  NaN  NaN  NaN  NaN  NaN  NaN  \n",
       "28  NaN  NaN  NaN  NaN  NaN  NaN  NaN  \n",
       "51  NaN  NaN  NaN  NaN  NaN  NaN  NaN  \n",
       "53  NaN  NaN  NaN  NaN  NaN  NaN  NaN  \n",
       "56  NaN  NaN  NaN  NaN  NaN  NaN  NaN  \n",
       "60  NaN  NaN  NaN  NaN  NaN  NaN  NaN  \n",
       "61  NaN  NaN  NaN  NaN  NaN  NaN  NaN  \n",
       "62  NaN  NaN  NaN  NaN  NaN  NaN  NaN  "
      ]
     },
     "execution_count": 15,
     "metadata": {},
     "output_type": "execute_result"
    }
   ],
   "source": [
    "#check the rest of data and make sure they are NaN\n",
    "what = list_o.ix[(list_o[0] != 'http:')&(list_o[0] != 'https:')&(list_o[0] != 'NaN')]\n",
    "what\n",
    "#nothing"
   ]
  },
  {
   "cell_type": "markdown",
   "metadata": {},
   "source": [
    "##### repeat  the same process for other museum data"
   ]
  },
  {
   "cell_type": "markdown",
   "metadata": {},
   "source": [
    "## Tate Museum"
   ]
  },
  {
   "cell_type": "code",
   "execution_count": 16,
   "metadata": {
    "collapsed": false
   },
   "outputs": [
    {
     "data": {
      "text/plain": [
       "54"
      ]
     },
     "execution_count": 16,
     "metadata": {},
     "output_type": "execute_result"
    }
   ],
   "source": [
    "t = pd.read_csv('/Users/bowonchung/Documents/ipython/scrapy/mySpidy/tate.csv')\n",
    "t['title'].unique()\n",
    "t['link'].count()"
   ]
  },
  {
   "cell_type": "code",
   "execution_count": 17,
   "metadata": {
    "collapsed": false
   },
   "outputs": [],
   "source": [
    "t['splited'] = t['link'].str.split('/')\n",
    "t2 = pd.Series(t['splited']).apply(pd.Series)\n",
    "#save the result as csv\n",
    "t2.to_csv('tate_t.csv')"
   ]
  },
  {
   "cell_type": "code",
   "execution_count": 18,
   "metadata": {
    "collapsed": false
   },
   "outputs": [
    {
     "data": {
      "text/plain": [
       "who-we-are             4\n",
       "tate-britain           4\n",
       "tate-member-patron     2\n",
       "our-work               2\n",
       "corporate-support      2\n",
       "contact-us             2\n",
       "apps                   2\n",
       "tate-st-ives           1\n",
       "tate-liverpool         1\n",
       "donate                 1\n",
       "business-services      1\n",
       "blogs                  1\n",
       "working-at-tate        1\n",
       "tate-modern            1\n",
       "press-office           1\n",
       "projects               1\n",
       "www.khanacademy.org    1\n",
       "online-resources       1\n",
       "dtype: int64"
      ]
     },
     "execution_count": 18,
     "metadata": {},
     "output_type": "execute_result"
    }
   ],
   "source": [
    "tl = t2.ix[(t2[0] != 'http:')]\n",
    "tate1 = tl[1].value_counts()\n",
    "tate2 = tl[2].value_counts()\n",
    "#tl[3].value_counts()\n",
    "#tl[4].value_counts() //level of pages \n",
    "tate2"
   ]
  },
  {
   "cell_type": "code",
   "execution_count": 19,
   "metadata": {
    "collapsed": false
   },
   "outputs": [
    {
     "data": {
      "text/plain": [
       "shop.tate.org.uk           2\n",
       "collectives.tate.org.uk    1\n",
       "www.youtube.com            1\n",
       "artmaps.tate.org.uk        1\n",
       "kids.tate.org.uk           1\n",
       "tate-images.com            1\n",
       "www.facebook.com           1\n",
       "twitter.com                1\n",
       "dtype: int64"
      ]
     },
     "execution_count": 19,
     "metadata": {},
     "output_type": "execute_result"
    }
   ],
   "source": [
    "to = t2.ix[(t2[0] == 'http:') & ( t2[2] != 'www.tate.org.uk')]\n",
    "tate3 = to[2].value_counts()\n",
    "tate3"
   ]
  },
  {
   "cell_type": "markdown",
   "metadata": {},
   "source": [
    "## Freer and Sackler gallery in Smithonion museum"
   ]
  },
  {
   "cell_type": "code",
   "execution_count": 19,
   "metadata": {
    "collapsed": false
   },
   "outputs": [
    {
     "data": {
      "text/plain": [
       "88"
      ]
     },
     "execution_count": 19,
     "metadata": {},
     "output_type": "execute_result"
    }
   ],
   "source": [
    "s = pd.read_csv('/Users/bowonchung/Documents/ipython/scrapy/mySpidy/smith.csv')\n",
    "s['link'].unique()\n",
    "s['link'].count()"
   ]
  },
  {
   "cell_type": "code",
   "execution_count": 20,
   "metadata": {
    "collapsed": false
   },
   "outputs": [],
   "source": [
    "s['splited'] = s['link'].str.split('/')\n",
    "s2 = pd.Series(s['splited']).apply(pd.Series)\n",
    "s2.head()\n",
    "#save the result as csv\n",
    "s2.to_csv('Smith_t.csv')"
   ]
  },
  {
   "cell_type": "code",
   "execution_count": 22,
   "metadata": {
    "collapsed": false
   },
   "outputs": [
    {
     "data": {
      "text/plain": [
       "collections    14\n",
       "events         13\n",
       "research        9\n",
       "explore         8\n",
       "support         8\n",
       "visit           7\n",
       "exhibitions     7\n",
       "press           2\n",
       "about           2\n",
       "                2\n",
       "store           1\n",
       "connect         1\n",
       "future          1\n",
       "current         1\n",
       "podcasts        1\n",
       "dtype: int64"
      ]
     },
     "execution_count": 22,
     "metadata": {},
     "output_type": "execute_result"
    }
   ],
   "source": [
    "sl = s2.ix[(s2[0] != 'http:')]\n",
    "sl.count() #sl[0] = 78, sl[1] =77 sl[2] =76\n",
    "ss = sl[1].value_counts() \n",
    "ss\n",
    "#sl[2].value_counts() "
   ]
  },
  {
   "cell_type": "code",
   "execution_count": 23,
   "metadata": {
    "collapsed": false
   },
   "outputs": [
    {
     "data": {
      "text/plain": [
       "www.flickr.com            1\n",
       "www.si.edu                1\n",
       "blog.asia.si.edu          1\n",
       "www.addthis.com           1\n",
       "www.youtube.com           1\n",
       "open.asia.si.edu,http:    1\n",
       "www.facebook.com          1\n",
       "twitter.com               1\n",
       "dtype: int64"
      ]
     },
     "execution_count": 23,
     "metadata": {},
     "output_type": "execute_result"
    }
   ],
   "source": [
    "so = s2.ix[(s2[0] == 'http:') & (s2[2] != 'asia.si.edu')]\n",
    "s_o = so[2].value_counts()\n",
    "s_o\n",
    "#three overlapping links \n",
    "#www.addthis.com : image use counter  \n",
    "#in case of Freer |Sackler gallery, link toward smithonion museum is only in specific purpose. (visit/about) "
   ]
  },
  {
   "cell_type": "markdown",
   "metadata": {},
   "source": [
    "## Solomon Guggenheim musuem "
   ]
  },
  {
   "cell_type": "code",
   "execution_count": 22,
   "metadata": {
    "collapsed": false
   },
   "outputs": [
    {
     "data": {
      "text/plain": [
       "total         102\n",
       "link          101\n",
       "title         101\n",
       "Unnamed: 3      1\n",
       "Unnamed: 4      1\n",
       "dtype: int64"
      ]
     },
     "execution_count": 22,
     "metadata": {},
     "output_type": "execute_result"
    }
   ],
   "source": [
    "g = pd.read_csv('/Users/bowonchung/Documents/ipython/scrapy/mySpidy/nygug.csv')\n",
    "g.count()"
   ]
  },
  {
   "cell_type": "code",
   "execution_count": null,
   "metadata": {
    "collapsed": false
   },
   "outputs": [],
   "source": [
    "#split the URL by slash mark '/'\n",
    "g['splited'] = g['link'].str.split('/')\n",
    "g2 = pd.Series(g['splited']).apply(pd.Series)\n",
    "g2.head()\n",
    "#save the result as csv\n",
    "g2.to_csv('gugenheim.csv')"
   ]
  },
  {
   "cell_type": "code",
   "execution_count": 26,
   "metadata": {
    "collapsed": false
   },
   "outputs": [
    {
     "data": {
      "text/plain": [
       "visit                  10\n",
       "about                  10\n",
       "exhibitions             8\n",
       "press-room              7\n",
       "education               7\n",
       "support                 6\n",
       "online                  5\n",
       "collections             5\n",
       "calendar-and-events     4\n",
       "                        3\n",
       "collaborations          2\n",
       "dtype: int64"
      ]
     },
     "execution_count": 26,
     "metadata": {},
     "output_type": "execute_result"
    }
   ],
   "source": [
    "#count the pages under the same parent folder in URL \n",
    "gl = g2.ix[(g2[0] != 'http:') & (g2[0] != 'https:')]\n",
    "#gl.count() \n",
    "\n",
    "#gl[1].value_counts() \n",
    "nyg1 = gl[2].value_counts() \n",
    "#gl[3].value_counts()\n",
    "#gl[4].value_counts()  #6344-guggenheim-app-named-best-in-class \n",
    "nyg1"
   ]
  },
  {
   "cell_type": "code",
   "execution_count": null,
   "metadata": {
    "collapsed": false
   },
   "outputs": [],
   "source": [
    "#searching the amount of external links \n",
    "go = g2.ix[(g2[0] == 'http:') & (g2[2] != 'www.guggenheimstore.org') | (g2[0] == 'https:')]\n",
    "nyg_o = go[2].value_counts()\n",
    "nyg_o"
   ]
  },
  {
   "cell_type": "markdown",
   "metadata": {},
   "source": [
    "##### - Analysis fin - "
   ]
  },
  {
   "cell_type": "markdown",
   "metadata": {},
   "source": [
    "# Rough charting in Matplotpib"
   ]
  },
  {
   "cell_type": "code",
   "execution_count": 28,
   "metadata": {
    "collapsed": false
   },
   "outputs": [],
   "source": [
    "import matplotlib as mpl\n",
    "from matplotlib.colors import LinearSegmentedColormap\n",
    "from matplotlib.lines import Line2D \n",
    "import matplotlib.pyplot as plt\n",
    "\n",
    "#internal links\n",
    "aa= pd.DataFrame(asia)\n",
    "asia1 = list(aa.index)\n",
    "asia2 = list(aa[0])\n",
    "#out link\n",
    "aa2= pd.DataFrame(asia_o)\n",
    "asia_o1 = list(aa2.index)\n",
    "asia_o2 = list(aa2[0])\n",
    "\n",
    "data = {'asia society internal' : pd.Series(asia2, index=asia1)}\n",
    "data2 = {'asia society link' : pd.Series(asia_o2, index=asia_o1)}\n",
    "df = pd.DataFrame(data)\n",
    "df2 = pd.DataFrame(data2)\n",
    "#df = df.sort()"
   ]
  },
  {
   "cell_type": "code",
   "execution_count": 29,
   "metadata": {
    "collapsed": false
   },
   "outputs": [],
   "source": [
    "#Styling \n",
    "# Create a figure of given size\n",
    "fig = plt.figure(figsize=(16,12))\n",
    "a = 0.7\n",
    "customcmap = [(x/24.0,  x/48.0, 0.05) for x in range(len(df))]\n",
    "customcmap = [(x/24.0,  x/48.0, 0.05) for x in range(len(df2))]"
   ]
  },
  {
   "cell_type": "markdown",
   "metadata": {},
   "source": [
    "## Asia Society"
   ]
  },
  {
   "cell_type": "code",
   "execution_count": 30,
   "metadata": {
    "collapsed": false
   },
   "outputs": [],
   "source": [
    "ttl = 'total contents linked at top page of Asia society'\n",
    "fig, axes = plt.subplots(nrows=1, ncols=1) #later use nrows=4 for adding tate, nygug and smith\n",
    "for i, c in enumerate(df.columns):\n",
    "    df[c].plot(kind='barh', figsize=(12, 10), alpha =a, color=customcmap, title=ttl)\n",
    "#plt.savefig('a1.png', bbox_inches='tight')"
   ]
  },
  {
   "cell_type": "code",
   "execution_count": 31,
   "metadata": {
    "collapsed": false
   },
   "outputs": [],
   "source": [
    "ttl = 'total outer links at top page of Asia society'\n",
    "fig, axes = plt.subplots(nrows=1, ncols=1) #later use nrows=4 for adding tate, nygug and smith\n",
    "for i, c in enumerate(df2.columns):\n",
    "    df2[c].plot(kind='barh', figsize=(10, 8), alpha =a, color=customcmap,edgecolor='w', title=ttl)\n",
    "#plt.savefig('a2.png', bbox_inches='tight')"
   ]
  },
  {
   "cell_type": "markdown",
   "metadata": {},
   "source": [
    "## Tate Museum"
   ]
  },
  {
   "cell_type": "code",
   "execution_count": 32,
   "metadata": {
    "collapsed": false
   },
   "outputs": [],
   "source": [
    "t1 = pd.DataFrame(tate1)\n",
    "t2 = pd.DataFrame(tate2)\n",
    "t_o = pd.DataFrame(tate3)\n",
    "\n",
    "t1_1 = list(t1.index)\n",
    "t1_2 = list(t1[0])\n",
    "t2_1 = list(t2.index)\n",
    "t2_2 = list(t2[0])\n",
    "to_1 = list(t_o.index)\n",
    "to_2 = list(t_o[0])\n",
    "\n",
    "data = {'tate internal toprank' : pd.Series(t1_2, index=t1_1)}\n",
    "data2 = {'tate internal secondrank' : pd.Series(t2_2, index=t2_1)}\n",
    "data3 = {'tate outer link' : pd.Series(to_2, index=to_1)}\n",
    "pt = pd.DataFrame(data)\n",
    "pt2 = pd.DataFrame(data2)\n",
    "pt3 = pd.DataFrame(data3)"
   ]
  },
  {
   "cell_type": "code",
   "execution_count": 33,
   "metadata": {
    "collapsed": false
   },
   "outputs": [],
   "source": [
    "ttl = 'the First categories of links at top page of Tate museum'\n",
    "fig, axes = plt.subplots(nrows=1, ncols=1) #later use nrows=4 for adding tate, nygug and smith\n",
    "for i, c in enumerate(pt.columns):\n",
    "    pt[c].plot(kind='barh', figsize=(8, 8), alpha =a, color=customcmap, title=ttl)\n",
    "plt.savefig('t1.png', bbox_inches='tight')"
   ]
  },
  {
   "cell_type": "code",
   "execution_count": 34,
   "metadata": {
    "collapsed": false
   },
   "outputs": [],
   "source": [
    "ttl = 'the Second categories of links at top page of Tate museum'\n",
    "fig, axes = plt.subplots(nrows=1, ncols=1) #later use nrows=4 for adding tate, nygug and smith\n",
    "for i, c in enumerate(pt2.columns):\n",
    "    pt2[c].plot(kind='barh', figsize=(8, 8), alpha =a, color=customcmap, title=ttl)\n",
    "plt.savefig('t2.png', bbox_inches='tight')"
   ]
  },
  {
   "cell_type": "code",
   "execution_count": 35,
   "metadata": {
    "collapsed": false
   },
   "outputs": [],
   "source": [
    "ttl = 'the Out links at top page of Tate museum'\n",
    "fig, axes = plt.subplots(nrows=1, ncols=1) #later use nrows=4 for adding tate, nygug and smith\n",
    "for i, c in enumerate(pt3.columns):\n",
    "    pt3[c].plot(kind='barh', figsize=(8, 8), alpha =a, color=customcmap, title=ttl)\n",
    "plt.savefig('t3.png', bbox_inches='tight')"
   ]
  },
  {
   "cell_type": "markdown",
   "metadata": {},
   "source": [
    "### Solomon guggenheim museum"
   ]
  },
  {
   "cell_type": "code",
   "execution_count": 36,
   "metadata": {
    "collapsed": false
   },
   "outputs": [],
   "source": [
    "g1 = pd.DataFrame(nyg1)\n",
    "g_o = pd.DataFrame(nyg_o)\n",
    "\n",
    "\n",
    "g1_1 = list(g1.index)\n",
    "g1_2 = list(g1[0])\n",
    "go_1 = list(g_o.index)\n",
    "go_2 = list(g_o[0])\n",
    "\n",
    "data = {'tate internal toprank' : pd.Series(g1_2, index=g1_1)}\n",
    "data2 = {'tate outer link' : pd.Series(go_2, index=go_1)}\n",
    "pg = pd.DataFrame(data)\n",
    "pg2 = pd.DataFrame(data2)\n"
   ]
  },
  {
   "cell_type": "code",
   "execution_count": 37,
   "metadata": {
    "collapsed": false
   },
   "outputs": [],
   "source": [
    "ttl = 'the Second categories of links at top page of Solomon guggenheim museum'\n",
    "fig, axes = plt.subplots(nrows=1, ncols=1) #later use nrows=4 for adding tate, nygug and smith\n",
    "for i, c in enumerate(pg.columns):\n",
    "    pg[c].plot(kind='barh', figsize=(8, 8), alpha =a, color=customcmap, title=ttl)\n",
    "plt.savefig('g1.png', bbox_inches='tight')"
   ]
  },
  {
   "cell_type": "code",
   "execution_count": 38,
   "metadata": {
    "collapsed": false
   },
   "outputs": [],
   "source": [
    "ttl = 'the Outlinks at top page of Solomon guggenheim museum'\n",
    "fig, axes = plt.subplots(nrows=1, ncols=1) #later use nrows=4 for adding tate, nygug and smith\n",
    "for i, c in enumerate(pg2.columns):\n",
    "    pg2[c].plot(kind='barh', figsize=(8, 8), alpha =a, color=customcmap, title=ttl)\n",
    "plt.savefig('g2.png', bbox_inches='tight')"
   ]
  },
  {
   "cell_type": "markdown",
   "metadata": {},
   "source": [
    "### Freer and Sackler Gallery at Smithonion museum"
   ]
  },
  {
   "cell_type": "code",
   "execution_count": 39,
   "metadata": {
    "collapsed": false
   },
   "outputs": [],
   "source": [
    "ss\n",
    "s_o\n",
    "s1 = pd.DataFrame(ss)\n",
    "s_o = pd.DataFrame(s_o)\n",
    "\n",
    "\n",
    "s1_1 = list(s1.index)\n",
    "s1_2 = list(s1[0])\n",
    "so_1 = list(s_o.index)\n",
    "so_2 = list(s_o[0])\n",
    "\n",
    "data = {' Freer and Sackler Gallery internal toprank' : pd.Series(s1_2, index=s1_1)}\n",
    "data2 = {'Freer and Sackler Gallery outer link' : pd.Series(so_2, index=so_1)}\n",
    "ps = pd.DataFrame(data)\n",
    "ps2 = pd.DataFrame(data2)"
   ]
  },
  {
   "cell_type": "code",
   "execution_count": 40,
   "metadata": {
    "collapsed": false
   },
   "outputs": [],
   "source": [
    "ttl = 'the Freer and Sackler Gallery internal links in top rank categories'\n",
    "fig, axes = plt.subplots(nrows=1, ncols=1) #later use nrows=4 for adding tate, nygug and smith\n",
    "for i, c in enumerate(ps.columns):\n",
    "    ps[c].plot(kind='barh', figsize=(8, 8), alpha =a, color=customcmap, title=ttl)\n",
    "plt.savefig('s1.png', bbox_inches='tight')"
   ]
  },
  {
   "cell_type": "code",
   "execution_count": 41,
   "metadata": {
    "collapsed": false
   },
   "outputs": [],
   "source": [
    "ttl = 'the Freer and Sackler Gallery outer links (Forget about count)'\n",
    "fig, axes = plt.subplots(nrows=1, ncols=1) #later use nrows=4 for adding tate, nygug and smith\n",
    "for i, c in enumerate(ps2.columns):\n",
    "    ps2[c].plot(kind='barh', figsize=(8, 8), alpha =a, color=customcmap, title=ttl)\n",
    "plt.savefig('s2.png', bbox_inches='tight')"
   ]
  },
  {
   "cell_type": "code",
   "execution_count": null,
   "metadata": {
    "collapsed": false
   },
   "outputs": [],
   "source": []
  }
 ],
 "metadata": {
  "anaconda-cloud": {},
  "kernelspec": {
   "display_name": "Python [default]",
   "language": "python",
   "name": "python2"
  },
  "language_info": {
   "codemirror_mode": {
    "name": "ipython",
    "version": 2
   },
   "file_extension": ".py",
   "mimetype": "text/x-python",
   "name": "python",
   "nbconvert_exporter": "python",
   "pygments_lexer": "ipython2",
   "version": "2.7.12"
  }
 },
 "nbformat": 4,
 "nbformat_minor": 0
}
